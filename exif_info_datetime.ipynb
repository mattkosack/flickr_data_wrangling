{
 "cells": [
  {
   "cell_type": "code",
   "execution_count": 1,
   "metadata": {},
   "outputs": [],
   "source": [
    "import pandas as pd"
   ]
  },
  {
   "cell_type": "code",
   "execution_count": 2,
   "metadata": {},
   "outputs": [],
   "source": [
    "data = pd.read_csv('output_datetime_info.csv')"
   ]
  },
  {
   "cell_type": "code",
   "execution_count": 4,
   "metadata": {},
   "outputs": [
    {
     "data": {
      "text/html": [
       "<div>\n",
       "<style scoped>\n",
       "    .dataframe tbody tr th:only-of-type {\n",
       "        vertical-align: middle;\n",
       "    }\n",
       "\n",
       "    .dataframe tbody tr th {\n",
       "        vertical-align: top;\n",
       "    }\n",
       "\n",
       "    .dataframe thead th {\n",
       "        text-align: right;\n",
       "    }\n",
       "</style>\n",
       "<table border=\"1\" class=\"dataframe\">\n",
       "  <thead>\n",
       "    <tr style=\"text-align: right;\">\n",
       "      <th></th>\n",
       "      <th>image_id</th>\n",
       "      <th>date_time_original</th>\n",
       "      <th>modified_date</th>\n",
       "      <th>time_delta</th>\n",
       "    </tr>\n",
       "  </thead>\n",
       "  <tbody>\n",
       "    <tr>\n",
       "      <th>0</th>\n",
       "      <td>27653319031</td>\n",
       "      <td>2016-05-24 08:43:59</td>\n",
       "      <td>2016-06-17 08:30:16</td>\n",
       "      <td>23 days, 23:46:17</td>\n",
       "    </tr>\n",
       "    <tr>\n",
       "      <th>1</th>\n",
       "      <td>22697429926</td>\n",
       "      <td>2015-10-28 06:58:48</td>\n",
       "      <td>2015-11-03 10:05:15</td>\n",
       "      <td>6 days, 3:06:27</td>\n",
       "    </tr>\n",
       "    <tr>\n",
       "      <th>2</th>\n",
       "      <td>6650348617</td>\n",
       "      <td>NaN</td>\n",
       "      <td>NaN</td>\n",
       "      <td>NaN</td>\n",
       "    </tr>\n",
       "    <tr>\n",
       "      <th>3</th>\n",
       "      <td>12337695235</td>\n",
       "      <td>2013-07-13 01:12:58</td>\n",
       "      <td>2014-02-06 18:52:24</td>\n",
       "      <td>208 days, 17:39:26</td>\n",
       "    </tr>\n",
       "    <tr>\n",
       "      <th>4</th>\n",
       "      <td>8432503596</td>\n",
       "      <td>2013-01-26 07:59:13</td>\n",
       "      <td>2013-01-31 21:08:24</td>\n",
       "      <td>5 days, 13:09:11</td>\n",
       "    </tr>\n",
       "    <tr>\n",
       "      <th>...</th>\n",
       "      <td>...</td>\n",
       "      <td>...</td>\n",
       "      <td>...</td>\n",
       "      <td>...</td>\n",
       "    </tr>\n",
       "    <tr>\n",
       "      <th>94</th>\n",
       "      <td>5356186293</td>\n",
       "      <td>NaN</td>\n",
       "      <td>NaN</td>\n",
       "      <td>NaN</td>\n",
       "    </tr>\n",
       "    <tr>\n",
       "      <th>95</th>\n",
       "      <td>3833385282</td>\n",
       "      <td>NaN</td>\n",
       "      <td>NaN</td>\n",
       "      <td>NaN</td>\n",
       "    </tr>\n",
       "    <tr>\n",
       "      <th>96</th>\n",
       "      <td>8813969257</td>\n",
       "      <td>2013-01-26 08:01:49</td>\n",
       "      <td>2013-05-25 23:30:32</td>\n",
       "      <td>119 days, 15:28:43</td>\n",
       "    </tr>\n",
       "    <tr>\n",
       "      <th>97</th>\n",
       "      <td>14364321954</td>\n",
       "      <td>2014-05-30 23:53:55</td>\n",
       "      <td>2014-06-07 22:27:43</td>\n",
       "      <td>7 days, 22:33:48</td>\n",
       "    </tr>\n",
       "    <tr>\n",
       "      <th>98</th>\n",
       "      <td>16527303765</td>\n",
       "      <td>2015-02-01 17:10:39</td>\n",
       "      <td>2015-02-14 13:58:33</td>\n",
       "      <td>12 days, 20:47:54</td>\n",
       "    </tr>\n",
       "  </tbody>\n",
       "</table>\n",
       "<p>99 rows × 4 columns</p>\n",
       "</div>"
      ],
      "text/plain": [
       "       image_id   date_time_original        modified_date          time_delta\n",
       "0   27653319031  2016-05-24 08:43:59  2016-06-17 08:30:16   23 days, 23:46:17\n",
       "1   22697429926  2015-10-28 06:58:48  2015-11-03 10:05:15     6 days, 3:06:27\n",
       "2    6650348617                  NaN                  NaN                 NaN\n",
       "3   12337695235  2013-07-13 01:12:58  2014-02-06 18:52:24  208 days, 17:39:26\n",
       "4    8432503596  2013-01-26 07:59:13  2013-01-31 21:08:24    5 days, 13:09:11\n",
       "..          ...                  ...                  ...                 ...\n",
       "94   5356186293                  NaN                  NaN                 NaN\n",
       "95   3833385282                  NaN                  NaN                 NaN\n",
       "96   8813969257  2013-01-26 08:01:49  2013-05-25 23:30:32  119 days, 15:28:43\n",
       "97  14364321954  2014-05-30 23:53:55  2014-06-07 22:27:43    7 days, 22:33:48\n",
       "98  16527303765  2015-02-01 17:10:39  2015-02-14 13:58:33   12 days, 20:47:54\n",
       "\n",
       "[99 rows x 4 columns]"
      ]
     },
     "execution_count": 4,
     "metadata": {},
     "output_type": "execute_result"
    }
   ],
   "source": [
    "data"
   ]
  },
  {
   "cell_type": "code",
   "execution_count": 5,
   "metadata": {},
   "outputs": [],
   "source": [
    "edit_time = data['time_delta']"
   ]
  },
  {
   "cell_type": "code",
   "execution_count": 6,
   "metadata": {},
   "outputs": [
    {
     "data": {
      "text/plain": [
       "0      23 days, 23:46:17\n",
       "1        6 days, 3:06:27\n",
       "2                    NaN\n",
       "3     208 days, 17:39:26\n",
       "4       5 days, 13:09:11\n",
       "             ...        \n",
       "94                   NaN\n",
       "95                   NaN\n",
       "96    119 days, 15:28:43\n",
       "97      7 days, 22:33:48\n",
       "98     12 days, 20:47:54\n",
       "Name: time_delta, Length: 99, dtype: object"
      ]
     },
     "execution_count": 6,
     "metadata": {},
     "output_type": "execute_result"
    }
   ],
   "source": [
    "edit_time"
   ]
  },
  {
   "cell_type": "code",
   "execution_count": null,
   "metadata": {},
   "outputs": [],
   "source": []
  }
 ],
 "metadata": {
  "interpreter": {
   "hash": "aee8b7b246df8f9039afb4144a1f6fd8d2ca17a180786b69acc140d282b71a49"
  },
  "kernelspec": {
   "display_name": "Python 3.9.6 64-bit",
   "language": "python",
   "name": "python3"
  },
  "language_info": {
   "codemirror_mode": {
    "name": "ipython",
    "version": 3
   },
   "file_extension": ".py",
   "mimetype": "text/x-python",
   "name": "python",
   "nbconvert_exporter": "python",
   "pygments_lexer": "ipython3",
   "version": "3.9.6"
  },
  "orig_nbformat": 4
 },
 "nbformat": 4,
 "nbformat_minor": 2
}
