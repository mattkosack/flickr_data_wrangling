{
 "cells": [
  {
   "cell_type": "code",
   "execution_count": 1,
   "metadata": {},
   "outputs": [],
   "source": [
    "import pandas as pd"
   ]
  },
  {
   "cell_type": "code",
   "execution_count": 2,
   "metadata": {},
   "outputs": [],
   "source": [
    "data = pd.read_csv('output_camera_info.csv')"
   ]
  },
  {
   "cell_type": "code",
   "execution_count": 3,
   "metadata": {},
   "outputs": [
    {
     "data": {
      "text/html": [
       "<div>\n",
       "<style scoped>\n",
       "    .dataframe tbody tr th:only-of-type {\n",
       "        vertical-align: middle;\n",
       "    }\n",
       "\n",
       "    .dataframe tbody tr th {\n",
       "        vertical-align: top;\n",
       "    }\n",
       "\n",
       "    .dataframe thead th {\n",
       "        text-align: right;\n",
       "    }\n",
       "</style>\n",
       "<table border=\"1\" class=\"dataframe\">\n",
       "  <thead>\n",
       "    <tr style=\"text-align: right;\">\n",
       "      <th></th>\n",
       "      <th>image_id</th>\n",
       "      <th>camera_make</th>\n",
       "      <th>camera_model</th>\n",
       "      <th>software</th>\n",
       "      <th>shutter_speed</th>\n",
       "      <th>flash</th>\n",
       "      <th>focal_length</th>\n",
       "      <th>lens_model</th>\n",
       "    </tr>\n",
       "  </thead>\n",
       "  <tbody>\n",
       "    <tr>\n",
       "      <th>0</th>\n",
       "      <td>27653319031</td>\n",
       "      <td>Canon</td>\n",
       "      <td>Canon EOS 5D Mark III</td>\n",
       "      <td>Adobe Photoshop Lightroom 6.5.1 (Macintosh)</td>\n",
       "      <td>0.001000</td>\n",
       "      <td>16.0</td>\n",
       "      <td>85.0</td>\n",
       "      <td>EF85mm f/1.8 USM</td>\n",
       "    </tr>\n",
       "    <tr>\n",
       "      <th>1</th>\n",
       "      <td>22697429926</td>\n",
       "      <td>NIKON CORPORATION</td>\n",
       "      <td>NIKON D800</td>\n",
       "      <td>Adobe Photoshop Lightroom 6.2.1 (Macintosh)</td>\n",
       "      <td>0.002500</td>\n",
       "      <td>16.0</td>\n",
       "      <td>200.0</td>\n",
       "      <td>70.0-200.0 mm f/2.8</td>\n",
       "    </tr>\n",
       "    <tr>\n",
       "      <th>2</th>\n",
       "      <td>6650348617</td>\n",
       "      <td>NaN</td>\n",
       "      <td>NaN</td>\n",
       "      <td>NaN</td>\n",
       "      <td>NaN</td>\n",
       "      <td>NaN</td>\n",
       "      <td>NaN</td>\n",
       "      <td>NaN</td>\n",
       "    </tr>\n",
       "    <tr>\n",
       "      <th>3</th>\n",
       "      <td>12337695235</td>\n",
       "      <td>NIKON CORPORATION</td>\n",
       "      <td>NIKON D800</td>\n",
       "      <td>Adobe Photoshop Lightroom 5.0 (Macintosh)</td>\n",
       "      <td>0.016667</td>\n",
       "      <td>16.0</td>\n",
       "      <td>70.0</td>\n",
       "      <td>70.0-200.0 mm f/2.8</td>\n",
       "    </tr>\n",
       "    <tr>\n",
       "      <th>4</th>\n",
       "      <td>8432503596</td>\n",
       "      <td>NIKON CORPORATION</td>\n",
       "      <td>NIKON D800</td>\n",
       "      <td>Adobe Photoshop Lightroom 4.1 (Macintosh)</td>\n",
       "      <td>0.010000</td>\n",
       "      <td>16.0</td>\n",
       "      <td>24.0</td>\n",
       "      <td>24.0-70.0 mm f/2.8</td>\n",
       "    </tr>\n",
       "    <tr>\n",
       "      <th>...</th>\n",
       "      <td>...</td>\n",
       "      <td>...</td>\n",
       "      <td>...</td>\n",
       "      <td>...</td>\n",
       "      <td>...</td>\n",
       "      <td>...</td>\n",
       "      <td>...</td>\n",
       "      <td>...</td>\n",
       "    </tr>\n",
       "    <tr>\n",
       "      <th>94</th>\n",
       "      <td>5356186293</td>\n",
       "      <td>NaN</td>\n",
       "      <td>NaN</td>\n",
       "      <td>NaN</td>\n",
       "      <td>NaN</td>\n",
       "      <td>NaN</td>\n",
       "      <td>NaN</td>\n",
       "      <td>NaN</td>\n",
       "    </tr>\n",
       "    <tr>\n",
       "      <th>95</th>\n",
       "      <td>3833385282</td>\n",
       "      <td>NaN</td>\n",
       "      <td>NaN</td>\n",
       "      <td>NaN</td>\n",
       "      <td>NaN</td>\n",
       "      <td>NaN</td>\n",
       "      <td>NaN</td>\n",
       "      <td>NaN</td>\n",
       "    </tr>\n",
       "    <tr>\n",
       "      <th>96</th>\n",
       "      <td>8813969257</td>\n",
       "      <td>NIKON CORPORATION</td>\n",
       "      <td>NIKON D800</td>\n",
       "      <td>Adobe Photoshop Lightroom 4.1 (Macintosh)</td>\n",
       "      <td>0.008000</td>\n",
       "      <td>16.0</td>\n",
       "      <td>32.0</td>\n",
       "      <td>24.0-70.0 mm f/2.8</td>\n",
       "    </tr>\n",
       "    <tr>\n",
       "      <th>97</th>\n",
       "      <td>14364321954</td>\n",
       "      <td>NIKON CORPORATION</td>\n",
       "      <td>NIKON D800</td>\n",
       "      <td>Adobe Photoshop Lightroom 5.0 (Macintosh)</td>\n",
       "      <td>0.002500</td>\n",
       "      <td>16.0</td>\n",
       "      <td>24.0</td>\n",
       "      <td>14.0-24.0 mm f/2.8</td>\n",
       "    </tr>\n",
       "    <tr>\n",
       "      <th>98</th>\n",
       "      <td>16527303765</td>\n",
       "      <td>SONY</td>\n",
       "      <td>ILCE-6000</td>\n",
       "      <td>Adobe Photoshop 7.0</td>\n",
       "      <td>NaN</td>\n",
       "      <td>16.0</td>\n",
       "      <td>16.0</td>\n",
       "      <td>E PZ 16-50mm F3.5-5.6 OSS</td>\n",
       "    </tr>\n",
       "  </tbody>\n",
       "</table>\n",
       "<p>99 rows × 8 columns</p>\n",
       "</div>"
      ],
      "text/plain": [
       "       image_id        camera_make           camera_model  \\\n",
       "0   27653319031              Canon  Canon EOS 5D Mark III   \n",
       "1   22697429926  NIKON CORPORATION             NIKON D800   \n",
       "2    6650348617                NaN                    NaN   \n",
       "3   12337695235  NIKON CORPORATION             NIKON D800   \n",
       "4    8432503596  NIKON CORPORATION             NIKON D800   \n",
       "..          ...                ...                    ...   \n",
       "94   5356186293                NaN                    NaN   \n",
       "95   3833385282                NaN                    NaN   \n",
       "96   8813969257  NIKON CORPORATION             NIKON D800   \n",
       "97  14364321954  NIKON CORPORATION             NIKON D800   \n",
       "98  16527303765               SONY              ILCE-6000   \n",
       "\n",
       "                                       software  shutter_speed  flash  \\\n",
       "0   Adobe Photoshop Lightroom 6.5.1 (Macintosh)       0.001000   16.0   \n",
       "1   Adobe Photoshop Lightroom 6.2.1 (Macintosh)       0.002500   16.0   \n",
       "2                                           NaN            NaN    NaN   \n",
       "3     Adobe Photoshop Lightroom 5.0 (Macintosh)       0.016667   16.0   \n",
       "4     Adobe Photoshop Lightroom 4.1 (Macintosh)       0.010000   16.0   \n",
       "..                                          ...            ...    ...   \n",
       "94                                          NaN            NaN    NaN   \n",
       "95                                          NaN            NaN    NaN   \n",
       "96    Adobe Photoshop Lightroom 4.1 (Macintosh)       0.008000   16.0   \n",
       "97    Adobe Photoshop Lightroom 5.0 (Macintosh)       0.002500   16.0   \n",
       "98                          Adobe Photoshop 7.0            NaN   16.0   \n",
       "\n",
       "    focal_length                 lens_model  \n",
       "0           85.0           EF85mm f/1.8 USM  \n",
       "1          200.0        70.0-200.0 mm f/2.8  \n",
       "2            NaN                        NaN  \n",
       "3           70.0        70.0-200.0 mm f/2.8  \n",
       "4           24.0         24.0-70.0 mm f/2.8  \n",
       "..           ...                        ...  \n",
       "94           NaN                        NaN  \n",
       "95           NaN                        NaN  \n",
       "96          32.0         24.0-70.0 mm f/2.8  \n",
       "97          24.0         14.0-24.0 mm f/2.8  \n",
       "98          16.0  E PZ 16-50mm F3.5-5.6 OSS  \n",
       "\n",
       "[99 rows x 8 columns]"
      ]
     },
     "execution_count": 3,
     "metadata": {},
     "output_type": "execute_result"
    }
   ],
   "source": [
    "data"
   ]
  },
  {
   "cell_type": "code",
   "execution_count": 4,
   "metadata": {},
   "outputs": [],
   "source": [
    "camera_makes = data['camera_make'].value_counts()"
   ]
  },
  {
   "cell_type": "code",
   "execution_count": 5,
   "metadata": {},
   "outputs": [
    {
     "data": {
      "text/plain": [
       "NIKON CORPORATION        53\n",
       "SONY                     15\n",
       "Canon                     1\n",
       "Apple                     1\n",
       "SAMSUNG                   1\n",
       "EASTMAN KODAK COMPANY     1\n",
       "Leica Camera AG           1\n",
       "Name: camera_make, dtype: int64"
      ]
     },
     "execution_count": 5,
     "metadata": {},
     "output_type": "execute_result"
    }
   ],
   "source": [
    "camera_makes"
   ]
  },
  {
   "cell_type": "code",
   "execution_count": 6,
   "metadata": {},
   "outputs": [],
   "source": [
    "camera_models = data['camera_model'].value_counts()"
   ]
  },
  {
   "cell_type": "code",
   "execution_count": 7,
   "metadata": {},
   "outputs": [
    {
     "data": {
      "text/plain": [
       "NIKON D800                                              49\n",
       "ILCE-6000                                               13\n",
       "NIKON D3                                                 3\n",
       "NEX-3                                                    2\n",
       "Canon EOS 5D Mark III                                    1\n",
       "iPhone X                                                 1\n",
       "NIKON D5100                                              1\n",
       "SAMSUNG PL55/ VLUU PL55/ SAMSUNG SL502/ SAMSUNG PL57     1\n",
       "KODAK C875 ZOOM DIGITAL CAMERA                           1\n",
       "M8 Digital Camera                                        1\n",
       "Name: camera_model, dtype: int64"
      ]
     },
     "execution_count": 7,
     "metadata": {},
     "output_type": "execute_result"
    }
   ],
   "source": [
    "camera_models"
   ]
  },
  {
   "cell_type": "code",
   "execution_count": 39,
   "metadata": {},
   "outputs": [],
   "source": [
    "softwares = data['software'].value_counts()"
   ]
  },
  {
   "cell_type": "code",
   "execution_count": 40,
   "metadata": {},
   "outputs": [
    {
     "data": {
      "text/plain": [
       "Adobe Photoshop Lightroom 5.0 (Macintosh)      31\n",
       "Adobe Photoshop Lightroom 4.1 (Macintosh)       8\n",
       "Adobe Photoshop Lightroom 6.0 (Windows)         7\n",
       "Adobe Photoshop Lightroom 6.5 (Macintosh)       6\n",
       "Adobe Photoshop 7.0                             5\n",
       "Adobe Photoshop CS5 Macintosh                   3\n",
       "picnik.com                                      3\n",
       "Adobe Photoshop Lightroom 6.2.1 (Macintosh)     3\n",
       "Adobe Photoshop CC 2014 (Macintosh)             2\n",
       "Adobe Photoshop CS2 Windows                     2\n",
       "Adobe Photoshop Lightroom 6.5.1 (Macintosh)     1\n",
       "Paint Shop Pro Photo 12,01                      1\n",
       "Adobe Photoshop Lightroom 6.12 (Macintosh)      1\n",
       "Adobe Photoshop CC 2017 (Macintosh)             1\n",
       "Ver.1.01                                        1\n",
       "Adobe Photoshop CS6 (Windows)                   1\n",
       "2.005                                           1\n",
       "Name: software, dtype: int64"
      ]
     },
     "execution_count": 40,
     "metadata": {},
     "output_type": "execute_result"
    }
   ],
   "source": [
    "softwares"
   ]
  },
  {
   "cell_type": "code",
   "execution_count": 53,
   "metadata": {},
   "outputs": [],
   "source": [
    "avg_focal_length = data['focal_length'].mean()"
   ]
  },
  {
   "cell_type": "code",
   "execution_count": 54,
   "metadata": {},
   "outputs": [
    {
     "data": {
      "text/plain": [
       "34.07464788732395"
      ]
     },
     "execution_count": 54,
     "metadata": {},
     "output_type": "execute_result"
    }
   ],
   "source": [
    "avg_focal_length"
   ]
  },
  {
   "cell_type": "code",
   "execution_count": 55,
   "metadata": {},
   "outputs": [],
   "source": [
    "avg_shut_speed = data['shutter_speed'].mean()"
   ]
  },
  {
   "cell_type": "code",
   "execution_count": 57,
   "metadata": {},
   "outputs": [
    {
     "data": {
      "text/plain": [
       "0.04290159754212799"
      ]
     },
     "execution_count": 57,
     "metadata": {},
     "output_type": "execute_result"
    }
   ],
   "source": [
    "avg_shut_speed"
   ]
  },
  {
   "cell_type": "code",
   "execution_count": null,
   "metadata": {},
   "outputs": [],
   "source": []
  }
 ],
 "metadata": {
  "interpreter": {
   "hash": "aee8b7b246df8f9039afb4144a1f6fd8d2ca17a180786b69acc140d282b71a49"
  },
  "kernelspec": {
   "display_name": "Python 3.9.6 64-bit",
   "language": "python",
   "name": "python3"
  },
  "language_info": {
   "codemirror_mode": {
    "name": "ipython",
    "version": 3
   },
   "file_extension": ".py",
   "mimetype": "text/x-python",
   "name": "python",
   "nbconvert_exporter": "python",
   "pygments_lexer": "ipython3",
   "version": "3.9.6"
  },
  "orig_nbformat": 4
 },
 "nbformat": 4,
 "nbformat_minor": 2
}
